{
  "nbformat": 4,
  "nbformat_minor": 0,
  "metadata": {
    "colab": {
      "provenance": [],
      "authorship_tag": "ABX9TyO5vUejFX01t8qksNZqRv0W",
      "include_colab_link": true
    },
    "kernelspec": {
      "name": "python3",
      "display_name": "Python 3"
    },
    "language_info": {
      "name": "python"
    }
  },
  "cells": [
    {
      "cell_type": "markdown",
      "metadata": {
        "id": "view-in-github",
        "colab_type": "text"
      },
      "source": [
        "<a href=\"https://colab.research.google.com/github/kondurupavani21/TextEmotions/blob/main/TextEmotions.ipynb\" target=\"_parent\"><img src=\"https://colab.research.google.com/assets/colab-badge.svg\" alt=\"Open In Colab\"/></a>"
      ]
    },
    {
      "cell_type": "code",
      "execution_count": null,
      "metadata": {
        "colab": {
          "base_uri": "https://localhost:8080/"
        },
        "id": "O9pKYqhZsKKg",
        "outputId": "f533630b-f89a-4e7a-9a45-35265d016840"
      },
      "outputs": [
        {
          "output_type": "stream",
          "name": "stdout",
          "text": [
            "Accuracy: 85.94%\n",
            "\n",
            "Tell me What's happening:,i feel angered and firey\n",
            "[3]\n",
            "Predicted emotion: anger\n"
          ]
        }
      ],
      "source": [
        "import pandas as pd\n",
        "import pandas as pd\n",
        "from sklearn.feature_extraction.text import CountVectorizer\n",
        "from sklearn.model_selection import train_test_split\n",
        "from sklearn.naive_bayes import MultinomialNB\n",
        "from sklearn.metrics import accuracy_score\n",
        "df = pd.read_parquet(\"hf://datasets/dair-ai/emotion/unsplit/train-00000-of-00001.parquet\")\n",
        "#specifing features and target\n",
        "X=df['text']\n",
        "y=df['label']\n",
        "#split data\n",
        "model=MultinomialNB()\n",
        "X_train, X_test, y_train, y_test = train_test_split(X, y, test_size=0.3, random_state=42)\n",
        "vector=CountVectorizer()\n",
        "X_train_vectors=vector.fit_transform(X_train)\n",
        "X_test_vectors=vector.transform(X_test)\n",
        "#train the model\n",
        "model = MultinomialNB()\n",
        "model.fit(X_train_vectors, y_train)\n",
        "y_pred = model.predict(X_test_vectors)\n",
        "accuracy = accuracy_score(y_test, y_pred)\n",
        "print(f\"Accuracy: {accuracy * 100:.2f}%\\n\")\n",
        "dl={\n",
        "    0:'sadness',\n",
        "    1:'joy',\n",
        "    2:'love',\n",
        "    3:'anger',\n",
        "    4:'fear',\n",
        "    5:'surprise'\n",
        "}\n",
        "user_input=input(\"Tell me What's happening:\")\n",
        "custom_message = [user_input]\n",
        "custom_vector = vector.transform(custom_message)\n",
        "prediction = model.predict(custom_vector)\n",
        "print(prediction)\n",
        "p=prediction[0]\n",
        "print(f\"Predicted emotion: {dl[p]}\")"
      ]
    }
  ]
}